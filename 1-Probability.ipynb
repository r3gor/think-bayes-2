{
 "cells": [
  {
   "cell_type": "markdown",
   "id": "pending-constitutional",
   "metadata": {},
   "source": [
    "# Probability"
   ]
  },
  {
   "cell_type": "code",
   "execution_count": null,
   "id": "appreciated-oracle",
   "metadata": {},
   "outputs": [],
   "source": [
    "import wget\n",
    "import os\n",
    "# download CSV\n",
    "url_csv = \"https://github.com/AllenDowney/BiteSizeBayes/raw/master/gss_bayes.csv\"\n",
    "if not os.path.exists(\"files/gss_bayes.csv\"):\n",
    "    wget.download(url_csv, \"files/gss_bayes.csv\")"
   ]
  },
  {
   "cell_type": "code",
   "execution_count": null,
   "id": "southern-conservative",
   "metadata": {},
   "outputs": [],
   "source": [
    "import pandas as pd\n",
    "gss = pd.read_csv('gss_bayes.csv', index_col=0)\n",
    "gss.head()"
   ]
  },
  {
   "cell_type": "code",
   "execution_count": null,
   "id": "sublime-cosmetic",
   "metadata": {},
   "outputs": [],
   "source": [
    "banker = gss['indus10'] == 6870 # create boolean matrix (values True or False) \n",
    "banker"
   ]
  },
  {
   "cell_type": "code",
   "execution_count": null,
   "id": "forced-floor",
   "metadata": {},
   "outputs": [],
   "source": [
    "banker.sum() # sum all values, True=1 , False=0"
   ]
  },
  {
   "cell_type": "code",
   "execution_count": null,
   "id": "painted-pursuit",
   "metadata": {},
   "outputs": [],
   "source": [
    "# Note: banker.size == len(banker) \n",
    "banker.mean() # = 728/49290 = banker.sum/banker.size = probability"
   ]
  },
  {
   "cell_type": "code",
   "execution_count": null,
   "id": "executive-suicide",
   "metadata": {},
   "outputs": [],
   "source": [
    "# probability of female\n",
    "(gss['sex']==2).mean()"
   ]
  },
  {
   "cell_type": "code",
   "execution_count": null,
   "id": "australian-sugar",
   "metadata": {},
   "outputs": [],
   "source": [
    "# probability of polviews <= 3 (liberal)\n",
    "(gss[\"polviews\"]<=3).mean()"
   ]
  },
  {
   "cell_type": "code",
   "execution_count": null,
   "id": "controlled-bread",
   "metadata": {},
   "outputs": [],
   "source": [
    "# probability of democrat\n",
    "(gss[\"partyid\"]<=1).mean()"
   ]
  },
  {
   "cell_type": "code",
   "execution_count": null,
   "id": "digital-screening",
   "metadata": {},
   "outputs": [],
   "source": [
    "# probability funcion\n",
    "def prob(A): \n",
    "    # A is a boolean matrix\n",
    "    return A.mean() "
   ]
  },
  {
   "cell_type": "markdown",
   "id": "constant-market",
   "metadata": {},
   "source": [
    "## Conjunction (AND)"
   ]
  },
  {
   "cell_type": "code",
   "execution_count": null,
   "id": "protected-queue",
   "metadata": {},
   "outputs": [],
   "source": [
    "banker = gss['indus10'] == 6870\n",
    "democrat = gss[\"partyid\"] <= 1\n",
    "(banker & democrat).mean() # or prob(banker & democrat)"
   ]
  },
  {
   "cell_type": "markdown",
   "id": "earned-packaging",
   "metadata": {},
   "source": [
    "## Conditional Probability (A/B)"
   ]
  },
  {
   "cell_type": "code",
   "execution_count": null,
   "id": "floppy-charter",
   "metadata": {
    "scrolled": false
   },
   "outputs": [],
   "source": [
    "# Calculate: P(liberal/democrat)\n",
    "\n",
    "liberal = gss[\"polviews\"] <= 3\n",
    "democrat = gss[\"partyid\"] <= 1\n",
    "\n",
    "# the democrats, of which they are liberal.\n",
    "# if value of liberal matrix is False -> ignore \n",
    "ans = democrat[liberal] \n",
    "\n",
    "# print(liberal.size) # All True + False = 49290\n",
    "# print(liberal.sum()) # Only True = 13493\n",
    "# print(ans.size) # = liberal.sum() = 13493\n",
    "\n",
    "print(\"P(liberal/democrat):\\t\",ans.mean())"
   ]
  },
  {
   "cell_type": "code",
   "execution_count": null,
   "id": "patient-instrument",
   "metadata": {},
   "outputs": [],
   "source": [
    "# Calculate: P(female/banker)\n",
    "\n",
    "female = gss['sex'] == 2\n",
    "banker = gss['indus10'] == 6870\n",
    "\n",
    "ans = female[banker]\n",
    "\n",
    "print(\"P(female/banker):\\t\",ans.mean())"
   ]
  },
  {
   "cell_type": "code",
   "execution_count": null,
   "id": "joined-handling",
   "metadata": {},
   "outputs": [],
   "source": [
    "def conditional(proposition, given):\n",
    "    return prob(proposition[given])\n",
    "\n",
    "# examples\n",
    "ans_1 = conditional(liberal & female, given=banker)\n",
    "ans_2 = conditional(banker, given=liberal & female)\n",
    "ans_3 = conditional(female, given=liberal & democrat)\n",
    "print(\"Ej1. P((liberal & female)/banker):\\t\", ans_1)\n",
    "print(\"Ej2. P(banker/(liberal & female)):\\t\", ans_2)\n",
    "print(\"Ej3. P(female/(liberal & democrat)):\\t\", ans_3)"
   ]
  },
  {
   "cell_type": "markdown",
   "id": "metropolitan-pressure",
   "metadata": {},
   "source": [
    "## Baye's Theorem\n",
    "**Theorem 1** gives us a way to compute a conditional probability using a conjunction:\n",
    "\n",
    "$$P(A|B) = \\frac{P(A~\\mathrm{and}~B)}{P(B)}$$\n",
    "\n",
    "**Theorem 2** gives us a way to compute a conjunction using a conditional probability:\n",
    "\n",
    "$$P(A~\\mathrm{and}~B) = P(B) P(A|B)$$\n",
    "\n",
    "**Theorem 3**, also known as Bayes's Theorem, gives us a way to get from $P(A|B)$ to $P(B|A)$, or the other way around:\n",
    "\n",
    "$$P(A|B) = \\frac{P(A) P(B|A)}{P(B)}$$"
   ]
  },
  {
   "cell_type": "markdown",
   "id": "fifty-planet",
   "metadata": {},
   "source": [
    "## Exercises"
   ]
  },
  {
   "cell_type": "markdown",
   "id": "canadian-folder",
   "metadata": {},
   "source": [
    "**Exercise 1**\n",
    "* The probability that Linda is a female banker,\n",
    "* The probability that Linda is a liberal female banker, and\n",
    "* The probability that Linda is a liberal female banker and a Democrat."
   ]
  },
  {
   "cell_type": "code",
   "execution_count": null,
   "id": "complicated-monday",
   "metadata": {},
   "outputs": [],
   "source": [
    "print((female & banker).mean())\n",
    "print((female & banker & liberal).mean())\n",
    "print((female & banker & liberal & democrat).mean())"
   ]
  },
  {
   "cell_type": "markdown",
   "id": "expressed-bunch",
   "metadata": {},
   "source": [
    "**Exercise 2**\n",
    "* What is the probability that a respondent is liberal, given that they are a Democrat?\n",
    "* What is the probability that a respondent is a Democrat, given that they are liberal?"
   ]
  },
  {
   "cell_type": "code",
   "execution_count": null,
   "id": "selective-perfume",
   "metadata": {},
   "outputs": [],
   "source": [
    "print(liberal[democrat].mean())\n",
    "print(democrat[liberal].mean())"
   ]
  },
  {
   "cell_type": "markdown",
   "id": "illegal-train",
   "metadata": {},
   "source": [
    "**Exercise 3**\n",
    "* What is the probability that a randomly chosen respondent is a young liberal?\n",
    "* What is the probability that a young person is liberal?\n",
    "* What fraction of respondents are old conservatives?\n",
    "* What fraction of conservatives are old?\n",
    "\n",
    "_Note:_ \n",
    "```python\n",
    "young = gss[\"age\"] < 30\n",
    "old = gss[\"age\"] >= 65\n",
    "conservative = gss[\"polviews\"] >= 5\n",
    "```"
   ]
  },
  {
   "cell_type": "code",
   "execution_count": null,
   "id": "still-mailing",
   "metadata": {},
   "outputs": [],
   "source": [
    "young = gss[\"age\"] < 30\n",
    "old = gss[\"age\"] >= 65\n",
    "conservative = gss[\"polviews\"] >= 5\n",
    "\n",
    "# solution\n",
    "print((liberal & young).mean())\n",
    "print(liberal[young].mean())\n",
    "print((conservative & old).mean())\n",
    "print(old[conservative].mean())"
   ]
  }
 ],
 "metadata": {
  "kernelspec": {
   "display_name": "ThinkBayes2",
   "language": "python",
   "name": "thinkbayes2"
  },
  "language_info": {
   "codemirror_mode": {
    "name": "ipython",
    "version": 3
   },
   "file_extension": ".py",
   "mimetype": "text/x-python",
   "name": "python",
   "nbconvert_exporter": "python",
   "pygments_lexer": "ipython3",
   "version": "3.9.2"
  }
 },
 "nbformat": 4,
 "nbformat_minor": 5
}
