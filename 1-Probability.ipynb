{
 "cells": [
  {
   "cell_type": "markdown",
   "id": "pending-constitutional",
   "metadata": {},
   "source": [
    "# Probability"
   ]
  },
  {
   "cell_type": "code",
   "execution_count": 57,
   "id": "appreciated-oracle",
   "metadata": {},
   "outputs": [],
   "source": [
    "import wget\n",
    "import os\n",
    "# download CSV\n",
    "url_csv = \"https://github.com/AllenDowney/BiteSizeBayes/raw/master/gss_bayes.csv\"\n",
    "if not os.path.exists(\"files/gss_bayes.csv\"):\n",
    "    wget.download(url_csv, \"files/gss_bayes.csv\")"
   ]
  },
  {
   "cell_type": "code",
   "execution_count": 58,
   "id": "southern-conservative",
   "metadata": {},
   "outputs": [
    {
     "data": {
      "text/html": [
       "<div>\n",
       "<style scoped>\n",
       "    .dataframe tbody tr th:only-of-type {\n",
       "        vertical-align: middle;\n",
       "    }\n",
       "\n",
       "    .dataframe tbody tr th {\n",
       "        vertical-align: top;\n",
       "    }\n",
       "\n",
       "    .dataframe thead th {\n",
       "        text-align: right;\n",
       "    }\n",
       "</style>\n",
       "<table border=\"1\" class=\"dataframe\">\n",
       "  <thead>\n",
       "    <tr style=\"text-align: right;\">\n",
       "      <th></th>\n",
       "      <th>year</th>\n",
       "      <th>age</th>\n",
       "      <th>sex</th>\n",
       "      <th>polviews</th>\n",
       "      <th>partyid</th>\n",
       "      <th>indus10</th>\n",
       "    </tr>\n",
       "    <tr>\n",
       "      <th>caseid</th>\n",
       "      <th></th>\n",
       "      <th></th>\n",
       "      <th></th>\n",
       "      <th></th>\n",
       "      <th></th>\n",
       "      <th></th>\n",
       "    </tr>\n",
       "  </thead>\n",
       "  <tbody>\n",
       "    <tr>\n",
       "      <th>1</th>\n",
       "      <td>1974</td>\n",
       "      <td>21.0</td>\n",
       "      <td>1</td>\n",
       "      <td>4.0</td>\n",
       "      <td>2.0</td>\n",
       "      <td>4970.0</td>\n",
       "    </tr>\n",
       "    <tr>\n",
       "      <th>2</th>\n",
       "      <td>1974</td>\n",
       "      <td>41.0</td>\n",
       "      <td>1</td>\n",
       "      <td>5.0</td>\n",
       "      <td>0.0</td>\n",
       "      <td>9160.0</td>\n",
       "    </tr>\n",
       "    <tr>\n",
       "      <th>5</th>\n",
       "      <td>1974</td>\n",
       "      <td>58.0</td>\n",
       "      <td>2</td>\n",
       "      <td>6.0</td>\n",
       "      <td>1.0</td>\n",
       "      <td>2670.0</td>\n",
       "    </tr>\n",
       "    <tr>\n",
       "      <th>6</th>\n",
       "      <td>1974</td>\n",
       "      <td>30.0</td>\n",
       "      <td>1</td>\n",
       "      <td>5.0</td>\n",
       "      <td>4.0</td>\n",
       "      <td>6870.0</td>\n",
       "    </tr>\n",
       "    <tr>\n",
       "      <th>7</th>\n",
       "      <td>1974</td>\n",
       "      <td>48.0</td>\n",
       "      <td>1</td>\n",
       "      <td>5.0</td>\n",
       "      <td>4.0</td>\n",
       "      <td>7860.0</td>\n",
       "    </tr>\n",
       "  </tbody>\n",
       "</table>\n",
       "</div>"
      ],
      "text/plain": [
       "        year   age  sex  polviews  partyid  indus10\n",
       "caseid                                             \n",
       "1       1974  21.0    1       4.0      2.0   4970.0\n",
       "2       1974  41.0    1       5.0      0.0   9160.0\n",
       "5       1974  58.0    2       6.0      1.0   2670.0\n",
       "6       1974  30.0    1       5.0      4.0   6870.0\n",
       "7       1974  48.0    1       5.0      4.0   7860.0"
      ]
     },
     "execution_count": 58,
     "metadata": {},
     "output_type": "execute_result"
    }
   ],
   "source": [
    "import pandas as pd\n",
    "gss = pd.read_csv('files/gss_bayes.csv', index_col=0)\n",
    "gss.head()"
   ]
  },
  {
   "cell_type": "code",
   "execution_count": 59,
   "id": "sublime-cosmetic",
   "metadata": {},
   "outputs": [
    {
     "data": {
      "text/plain": [
       "caseid\n",
       "1       False\n",
       "2       False\n",
       "5       False\n",
       "6        True\n",
       "7       False\n",
       "        ...  \n",
       "2863    False\n",
       "2864    False\n",
       "2865    False\n",
       "2866    False\n",
       "2867    False\n",
       "Name: indus10, Length: 49290, dtype: bool"
      ]
     },
     "execution_count": 59,
     "metadata": {},
     "output_type": "execute_result"
    }
   ],
   "source": [
    "banker = gss['indus10'] == 6870 # create boolean matrix (values True or False) \n",
    "banker"
   ]
  },
  {
   "cell_type": "code",
   "execution_count": 60,
   "id": "forced-floor",
   "metadata": {},
   "outputs": [
    {
     "data": {
      "text/plain": [
       "728"
      ]
     },
     "execution_count": 60,
     "metadata": {},
     "output_type": "execute_result"
    }
   ],
   "source": [
    "banker.sum() # sum all values, True=1 , False=0"
   ]
  },
  {
   "cell_type": "code",
   "execution_count": 61,
   "id": "painted-pursuit",
   "metadata": {},
   "outputs": [
    {
     "data": {
      "text/plain": [
       "0.014769730168391155"
      ]
     },
     "execution_count": 61,
     "metadata": {},
     "output_type": "execute_result"
    }
   ],
   "source": [
    "# Note: banker.size == len(banker) \n",
    "banker.mean() # = 728/49290 = banker.sum/banker.size = probability"
   ]
  },
  {
   "cell_type": "code",
   "execution_count": 62,
   "id": "executive-suicide",
   "metadata": {},
   "outputs": [
    {
     "data": {
      "text/plain": [
       "0.5378575776019476"
      ]
     },
     "execution_count": 62,
     "metadata": {},
     "output_type": "execute_result"
    }
   ],
   "source": [
    "# probability of female\n",
    "(gss['sex']==2).mean()"
   ]
  },
  {
   "cell_type": "code",
   "execution_count": 63,
   "id": "australian-sugar",
   "metadata": {},
   "outputs": [
    {
     "data": {
      "text/plain": [
       "0.27374721038750255"
      ]
     },
     "execution_count": 63,
     "metadata": {},
     "output_type": "execute_result"
    }
   ],
   "source": [
    "# probability of polviews <= 3 (liberal)\n",
    "(gss[\"polviews\"]<=3).mean()"
   ]
  },
  {
   "cell_type": "code",
   "execution_count": 64,
   "id": "controlled-bread",
   "metadata": {},
   "outputs": [
    {
     "data": {
      "text/plain": [
       "0.3662609048488537"
      ]
     },
     "execution_count": 64,
     "metadata": {},
     "output_type": "execute_result"
    }
   ],
   "source": [
    "# probability of democrat\n",
    "(gss[\"partyid\"]<=1).mean()"
   ]
  },
  {
   "cell_type": "code",
   "execution_count": 65,
   "id": "digital-screening",
   "metadata": {},
   "outputs": [],
   "source": [
    "# probability funcion\n",
    "def prob(A): \n",
    "    # A is a boolean matrix\n",
    "    return A.mean() "
   ]
  },
  {
   "cell_type": "markdown",
   "id": "constant-market",
   "metadata": {},
   "source": [
    "## Conjunction (AND)"
   ]
  },
  {
   "cell_type": "code",
   "execution_count": 66,
   "id": "protected-queue",
   "metadata": {},
   "outputs": [
    {
     "data": {
      "text/plain": [
       "0.004686548995739501"
      ]
     },
     "execution_count": 66,
     "metadata": {},
     "output_type": "execute_result"
    }
   ],
   "source": [
    "banker = gss['indus10'] == 6870\n",
    "democrat = gss[\"partyid\"] <= 1\n",
    "(banker & democrat).mean() # or prob(banker & democrat)"
   ]
  },
  {
   "cell_type": "markdown",
   "id": "earned-packaging",
   "metadata": {},
   "source": [
    "## Conditional Probability (A/B)"
   ]
  },
  {
   "cell_type": "code",
   "execution_count": 67,
   "id": "floppy-charter",
   "metadata": {
    "scrolled": false
   },
   "outputs": [
    {
     "name": "stdout",
     "output_type": "stream",
     "text": [
      "P(liberal/democrat):\t 0.5206403320240125\n"
     ]
    }
   ],
   "source": [
    "# Calculate: P(liberal/democrat)\n",
    "\n",
    "liberal = gss[\"polviews\"] <= 3\n",
    "democrat = gss[\"partyid\"] <= 1\n",
    "\n",
    "# the democrats, of which they are liberal.\n",
    "# if value of liberal matrix is False -> ignore \n",
    "ans = democrat[liberal] \n",
    "\n",
    "# print(liberal.size) # All True + False = 49290\n",
    "# print(liberal.sum()) # Only True = 13493\n",
    "# print(ans.size) # = liberal.sum() = 13493\n",
    "\n",
    "print(\"P(liberal/democrat):\\t\",ans.mean())"
   ]
  },
  {
   "cell_type": "code",
   "execution_count": 68,
   "id": "patient-instrument",
   "metadata": {},
   "outputs": [
    {
     "name": "stdout",
     "output_type": "stream",
     "text": [
      "P(female/banker):\t 0.7706043956043956\n"
     ]
    }
   ],
   "source": [
    "# Calculate: P(female/banker)\n",
    "\n",
    "female = gss['sex'] == 2\n",
    "banker = gss['indus10'] == 6870\n",
    "\n",
    "ans = female[banker]\n",
    "\n",
    "print(\"P(female/banker):\\t\",ans.mean())"
   ]
  },
  {
   "cell_type": "code",
   "execution_count": 69,
   "id": "joined-handling",
   "metadata": {},
   "outputs": [
    {
     "name": "stdout",
     "output_type": "stream",
     "text": [
      "Ej1. P((liberal & female)/banker):\t 0.17307692307692307\n",
      "Ej2. P(banker/(liberal & female)):\t 0.01723194748358862\n",
      "Ej3. P(female/(liberal & democrat)):\t 0.576085409252669\n"
     ]
    }
   ],
   "source": [
    "def conditional(proposition, given):\n",
    "    return prob(proposition[given])\n",
    "\n",
    "# examples\n",
    "ans_1 = conditional(liberal & female, given=banker)\n",
    "ans_2 = conditional(banker, given=liberal & female)\n",
    "ans_3 = conditional(female, given=liberal & democrat)\n",
    "print(\"Ej1. P((liberal & female)/banker):\\t\", ans_1)\n",
    "print(\"Ej2. P(banker/(liberal & female)):\\t\", ans_2)\n",
    "print(\"Ej3. P(female/(liberal & democrat)):\\t\", ans_3)"
   ]
  },
  {
   "cell_type": "markdown",
   "id": "metropolitan-pressure",
   "metadata": {},
   "source": [
    "## Baye's Theorem\n",
    "**Theorem 1** gives us a way to compute a conditional probability using a conjunction:\n",
    "\n",
    "$$P(A|B) = \\frac{P(A~\\mathrm{and}~B)}{P(B)}$$\n",
    "\n",
    "**Theorem 2** gives us a way to compute a conjunction using a conditional probability:\n",
    "\n",
    "$$P(A~\\mathrm{and}~B) = P(B) P(A|B)$$\n",
    "\n",
    "**Theorem 3**, also known as Bayes's Theorem, gives us a way to get from $P(A|B)$ to $P(B|A)$, or the other way around:\n",
    "\n",
    "$$P(A|B) = \\frac{P(A) P(B|A)}{P(B)}$$"
   ]
  },
  {
   "cell_type": "markdown",
   "id": "fifty-planet",
   "metadata": {},
   "source": [
    "## Exercises"
   ]
  },
  {
   "cell_type": "markdown",
   "id": "canadian-folder",
   "metadata": {},
   "source": [
    "**Exercise 1**\n",
    "* The probability that Linda is a female banker,\n",
    "* The probability that Linda is a liberal female banker, and\n",
    "* The probability that Linda is a liberal female banker and a Democrat."
   ]
  },
  {
   "cell_type": "code",
   "execution_count": 70,
   "id": "complicated-monday",
   "metadata": {},
   "outputs": [
    {
     "name": "stdout",
     "output_type": "stream",
     "text": [
      "0.011381618989653074\n",
      "0.002556299452221546\n",
      "0.0012375735443294787\n"
     ]
    }
   ],
   "source": [
    "print((female & banker).mean())\n",
    "print((female & banker & liberal).mean())\n",
    "print((female & banker & liberal & democrat).mean())"
   ]
  },
  {
   "cell_type": "markdown",
   "id": "expressed-bunch",
   "metadata": {},
   "source": [
    "**Exercise 2**\n",
    "* What is the probability that a respondent is liberal, given that they are a Democrat?\n",
    "* What is the probability that a respondent is a Democrat, given that they are liberal?"
   ]
  },
  {
   "cell_type": "code",
   "execution_count": 71,
   "id": "selective-perfume",
   "metadata": {},
   "outputs": [
    {
     "name": "stdout",
     "output_type": "stream",
     "text": [
      "0.3891320002215698\n",
      "0.5206403320240125\n"
     ]
    }
   ],
   "source": [
    "print(liberal[democrat].mean())\n",
    "print(democrat[liberal].mean())"
   ]
  },
  {
   "cell_type": "markdown",
   "id": "illegal-train",
   "metadata": {},
   "source": [
    "**Exercise 3**\n",
    "* What is the probability that a randomly chosen respondent is a young liberal?\n",
    "* What is the probability that a young person is liberal?\n",
    "* What fraction of respondents are old conservatives?\n",
    "* What fraction of conservatives are old?\n",
    "\n",
    "_Note:_ \n",
    "```python\n",
    "young = gss[\"age\"] < 30\n",
    "old = gss[\"age\"] >= 65\n",
    "conservative = gss[\"polviews\"] >= 5\n",
    "```"
   ]
  },
  {
   "cell_type": "code",
   "execution_count": 72,
   "id": "still-mailing",
   "metadata": {},
   "outputs": [
    {
     "name": "stdout",
     "output_type": "stream",
     "text": [
      "0.06579427875836884\n",
      "0.338517745302714\n",
      "0.06701156421180766\n",
      "0.19597721609113564\n"
     ]
    }
   ],
   "source": [
    "young = gss[\"age\"] < 30\n",
    "old = gss[\"age\"] >= 65\n",
    "conservative = gss[\"polviews\"] >= 5\n",
    "\n",
    "# solution\n",
    "print((liberal & young).mean())\n",
    "print(liberal[young].mean())\n",
    "print((conservative & old).mean())\n",
    "print(old[conservative].mean())"
   ]
  }
 ],
 "metadata": {
  "kernelspec": {
   "display_name": "ThinkBayes2",
   "language": "python",
   "name": "thinkbayes2"
  },
  "language_info": {
   "codemirror_mode": {
    "name": "ipython",
    "version": 3
   },
   "file_extension": ".py",
   "mimetype": "text/x-python",
   "name": "python",
   "nbconvert_exporter": "python",
   "pygments_lexer": "ipython3",
   "version": "3.9.2"
  }
 },
 "nbformat": 4,
 "nbformat_minor": 5
}
