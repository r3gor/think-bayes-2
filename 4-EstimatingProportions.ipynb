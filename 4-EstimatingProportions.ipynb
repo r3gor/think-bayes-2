{
 "cells": [
  {
   "cell_type": "markdown",
   "id": "latter-network",
   "metadata": {},
   "source": [
    "## The Binomial Distribution"
   ]
  },
  {
   "cell_type": "code",
   "execution_count": 3,
   "id": "dental-brighton",
   "metadata": {},
   "outputs": [
    {
     "data": {
      "text/plain": [
       "0.5"
      ]
     },
     "execution_count": 3,
     "metadata": {},
     "output_type": "execute_result"
    }
   ],
   "source": [
    "from scipy.stats import binom\n",
    "n = 2 # 2 experiments\n",
    "p = 0.5 # prob. of success\n",
    "k = 1 # amount of success\n",
    "binom.pmf(k, n, p)  # probability of obtaining exactly k \n",
    "                    # successes from n experiments"
   ]
  },
  {
   "cell_type": "code",
   "execution_count": 4,
   "id": "deadly-raising",
   "metadata": {},
   "outputs": [
    {
     "data": {
      "text/plain": [
       "array([0.25, 0.5 , 0.25])"
      ]
     },
     "execution_count": 4,
     "metadata": {},
     "output_type": "execute_result"
    }
   ],
   "source": [
    "import numpy as np\n",
    "ks = np.arange(n+1) # [0, 1, 2]\n",
    "ps = binom.pmf(ks, n, p) # probability of obtaining \n",
    "                         # exactly 0, 1 and 2, respectively \n",
    "                         # from n experiments\n",
    "ps"
   ]
  },
  {
   "cell_type": "code",
   "execution_count": 5,
   "id": "strange-anaheim",
   "metadata": {},
   "outputs": [
    {
     "data": {
      "text/html": [
       "<div>\n",
       "<style scoped>\n",
       "    .dataframe tbody tr th:only-of-type {\n",
       "        vertical-align: middle;\n",
       "    }\n",
       "\n",
       "    .dataframe tbody tr th {\n",
       "        vertical-align: top;\n",
       "    }\n",
       "\n",
       "    .dataframe thead th {\n",
       "        text-align: right;\n",
       "    }\n",
       "</style>\n",
       "<table border=\"1\" class=\"dataframe\">\n",
       "  <thead>\n",
       "    <tr style=\"text-align: right;\">\n",
       "      <th></th>\n",
       "      <th>probs</th>\n",
       "    </tr>\n",
       "  </thead>\n",
       "  <tbody>\n",
       "    <tr>\n",
       "      <th>0</th>\n",
       "      <td>0.25</td>\n",
       "    </tr>\n",
       "    <tr>\n",
       "      <th>1</th>\n",
       "      <td>0.50</td>\n",
       "    </tr>\n",
       "    <tr>\n",
       "      <th>2</th>\n",
       "      <td>0.25</td>\n",
       "    </tr>\n",
       "  </tbody>\n",
       "</table>\n",
       "</div>"
      ],
      "text/plain": [
       "0    0.25\n",
       "1    0.50\n",
       "2    0.25\n",
       "Name: , dtype: float64"
      ]
     },
     "execution_count": 5,
     "metadata": {},
     "output_type": "execute_result"
    }
   ],
   "source": [
    "from empiricaldist import Pmf\n",
    "pmf_k = Pmf(ps, ks)\n",
    "pmf_k"
   ]
  },
  {
   "cell_type": "code",
   "execution_count": 6,
   "id": "occupied-prompt",
   "metadata": {},
   "outputs": [],
   "source": [
    "def make_binomial(n, p):\n",
    "    ks = np.arange(n+1) # all possible amounts of success\n",
    "    ps = binom.pmf(ks, n, p) # probability of obtaining \n",
    "                             # exactly each possible \n",
    "                             # amount of success from n\n",
    "                             # experiments\n",
    "    return Pmf(ps, ks)"
   ]
  },
  {
   "cell_type": "markdown",
   "id": "meaning-progress",
   "metadata": {},
   "source": [
    "## The Euro Problem "
   ]
  },
  {
   "cell_type": "markdown",
   "id": "mysterious-mayor",
   "metadata": {},
   "source": [
    "> When spun on edge 250 times, a Belgian one-euro coin came up heads 140 times and tails 110.  \\`It looks very suspicious to me,' said Barry Blight, a statistics lecturer at the London School of Economics.  \\`If the coin were unbiased, the chance of getting a result as extreme as that would be less than 7%.'\n",
    "\n",
    "\"But [MacKays asks] do these data give evidence that the coin is biased rather than fair?\"\n",
    "\n",
    "Two steps to answer the question:\n",
    "\n",
    "1. Use binomial distribution to see where that 7% came from.\n",
    "\n",
    "2. Then we'll use Bayes's Theorem to estimate the probability that this coin comes up heads."
   ]
  },
  {
   "cell_type": "markdown",
   "id": "inner-vatican",
   "metadata": {},
   "source": [
    "### Step 1\n",
    "\n",
    "**Use binomial distribution to see where that 7% came from.**"
   ]
  },
  {
   "cell_type": "code",
   "execution_count": 7,
   "id": "metropolitan-retailer",
   "metadata": {},
   "outputs": [
    {
     "data": {
      "text/plain": [
       "<AxesSubplot:>"
      ]
     },
     "execution_count": 7,
     "metadata": {},
     "output_type": "execute_result"
    },
    {
     "data": {
      "image/png": "[encoded data removed]",
      "text/plain": [
       "<Figure size 432x288 with 1 Axes>"
      ]
     },
     "metadata": {
      "needs_background": "light"
     },
     "output_type": "display_data"
    }
   ],
   "source": [
    "pmf_k = make_binomial(n=250, p=0.5)\n",
    "pmf_k.plot()"
   ]
  },
  {
   "cell_type": "code",
   "execution_count": 8,
   "id": "integral-fancy",
   "metadata": {},
   "outputs": [
    {
     "data": {
      "text/plain": [
       "125"
      ]
     },
     "execution_count": 8,
     "metadata": {},
     "output_type": "execute_result"
    }
   ],
   "source": [
    "pmf_k.max_prob() # obtain 125 successes is the most \n",
    "                 # probably event"
   ]
  },
  {
   "cell_type": "code",
   "execution_count": 9,
   "id": "treated-particular",
   "metadata": {},
   "outputs": [
    {
     "data": {
      "text/plain": [
       "0.05041221314731537"
      ]
     },
     "execution_count": 9,
     "metadata": {},
     "output_type": "execute_result"
    }
   ],
   "source": [
    "pmf_k[125] # the prob. of most probably event is 5%"
   ]
  },
  {
   "cell_type": "code",
   "execution_count": 10,
   "id": "filled-hospital",
   "metadata": {},
   "outputs": [
    {
     "data": {
      "text/plain": [
       "0.008357181724917673"
      ]
     },
     "execution_count": 10,
     "metadata": {},
     "output_type": "execute_result"
    }
   ],
   "source": [
    "pmf_k[140] # the prob. of the event that occurred is 0.8%"
   ]
  },
  {
   "cell_type": "code",
   "execution_count": 11,
   "id": "blond-working",
   "metadata": {},
   "outputs": [
    {
     "data": {
      "text/plain": [
       "0.033210575620022706"
      ]
     },
     "execution_count": 11,
     "metadata": {},
     "output_type": "execute_result"
    }
   ],
   "source": [
    "pmf_k.prob_ge(140) # the probability of getting 140 \n",
    "                   # or more successes is 3.3%"
   ]
  },
  {
   "cell_type": "code",
   "execution_count": 12,
   "id": "combined-nylon",
   "metadata": {},
   "outputs": [
    {
     "data": {
      "text/plain": [
       "0.033210575620022706"
      ]
     },
     "execution_count": 12,
     "metadata": {},
     "output_type": "execute_result"
    }
   ],
   "source": [
    "pmf_k.prob_le(110) # the probability of getting 110 \n",
    "                   # or less successes is 3.3%"
   ]
  },
  {
   "cell_type": "markdown",
   "id": "perfect-groove",
   "metadata": {},
   "source": [
    "**The probability that an event 15 units or more away from the most probable (125):**\n",
    "\n",
    "$$= P(x<=125-15) + P(x>=125+15)$$\n",
    "$$= P(x<=110) + P(x>=140)$$\n",
    "\n",
    "$$ P(x>=140) = 3.3%$$\n",
    "$$ P(x<=110) = 3.3%$$\n",
    "\n",
    "$$= 6.6\\% = 7\\%$$"
   ]
  },
  {
   "cell_type": "markdown",
   "id": "soviet-tokyo",
   "metadata": {},
   "source": [
    "### Step 2\n",
    "\n",
    "**Then we'll use Bayes's Theorem to estimate the probability that this coin comes up heads.**"
   ]
  },
  {
   "cell_type": "markdown",
   "id": "impossible-emergency",
   "metadata": {},
   "source": [
    "## Bayesian Estimation "
   ]
  },
  {
   "cell_type": "code",
   "execution_count": 13,
   "id": "practical-context",
   "metadata": {},
   "outputs": [
    {
     "data": {
      "text/plain": [
       "<AxesSubplot:>"
      ]
     },
     "execution_count": 13,
     "metadata": {},
     "output_type": "execute_result"
    },
    {
     "data": {
      "image/png": "[encoded data removed]",
      "text/plain": [
       "<Figure size 432x288 with 1 Axes>"
      ]
     },
     "metadata": {
      "needs_background": "light"
     },
     "output_type": "display_data"
    }
   ],
   "source": [
    "hypos = np.linspace(0, 1, 101) # 101 elements between 0 and 1 \n",
    "                               # equally spaced\n",
    "prior = Pmf(1, hypos)\n",
    "\n",
    "likelihood_heads = hypos\n",
    "likelihood_tails = 1 - hypos\n",
    "likelihood = {\n",
    "    \"H\": likelihood_heads,\n",
    "    \"T\": likelihood_tails\n",
    "}\n",
    "\n",
    "dataset = \"H\" * 140 + \"T\" * 110\n",
    "\n",
    "def update_euro(pmf, dataset):\n",
    "    for data in dataset:\n",
    "        pmf *= likelihood[data]\n",
    "    pmf.normalize()\n",
    "\n",
    "posterior = prior.copy()\n",
    "update_euro(posterior, dataset)\n",
    "posterior.plot()"
   ]
  },
  {
   "cell_type": "code",
   "execution_count": 14,
   "id": "rational-knock",
   "metadata": {},
   "outputs": [
    {
     "data": {
      "text/plain": [
       "0.56"
      ]
     },
     "execution_count": 14,
     "metadata": {},
     "output_type": "execute_result"
    }
   ],
   "source": [
    "posterior.max_prob()"
   ]
  },
  {
   "cell_type": "markdown",
   "id": "mighty-apparel",
   "metadata": {},
   "source": [
    "**Conclusion**\n",
    "\n",
    "* If the p is 0.56 (instead of 0.5) the most probable result will be the one that occurred (140 heads)\n",
    "\n",
    "* Previously we took a subjective value for the p (0.5) and the most probable result was 125 successes. Now we have estimated the value of the p from the result (where 140 successes is the most probable) and in this way the result is a p = 0.56\n",
    "\n",
    "    *Where p is the __probability of success in binomial dist.__*"
   ]
  },
  {
   "cell_type": "code",
   "execution_count": 15,
   "id": "composed-throat",
   "metadata": {},
   "outputs": [
    {
     "data": {
      "text/plain": [
       "140"
      ]
     },
     "execution_count": 15,
     "metadata": {},
     "output_type": "execute_result"
    }
   ],
   "source": [
    "# demostration of previus conclusion\n",
    "pmf = make_binomial(n=250, p=0.56)\n",
    "pmf.max_prob()"
   ]
  },
  {
   "cell_type": "markdown",
   "id": "funded-sheffield",
   "metadata": {},
   "source": [
    "## Triangle Prior "
   ]
  },
  {
   "cell_type": "code",
   "execution_count": 16,
   "id": "promotional-exhibit",
   "metadata": {},
   "outputs": [
    {
     "data": {
      "text/plain": [
       "<AxesSubplot:>"
      ]
     },
     "execution_count": 16,
     "metadata": {},
     "output_type": "execute_result"
    },
    {
     "data": {
      "image/png": "[encoded data removed]",
      "text/plain": [
       "<Figure size 432x288 with 1 Axes>"
      ]
     },
     "metadata": {
      "needs_background": "light"
     },
     "output_type": "display_data"
    }
   ],
   "source": [
    "# uniform prior vs triangle prior\n",
    "\n",
    "uniform = Pmf(1, hypos, name=\"uniform\")\n",
    "uniform.normalize()\n",
    "uniform.plot()\n",
    "\n",
    "ramp_up = np.arange(50) # 1, 2, ..., 50\n",
    "ramp_down = np.arange(50, -1, -1) # 49, 48, ..., 1\n",
    "a = np.append(ramp_up, ramp_down)\n",
    "triangle = Pmf(a, hypos, name=\"triangle\")\n",
    "triangle.normalize()\n",
    "triangle.plot()"
   ]
  },
  {
   "cell_type": "code",
   "execution_count": 17,
   "id": "surprised-vampire",
   "metadata": {},
   "outputs": [
    {
     "data": {
      "text/plain": [
       "<AxesSubplot:>"
      ]
     },
     "execution_count": 17,
     "metadata": {},
     "output_type": "execute_result"
    },
    {
     "data": {
      "image/png": "[encoded data removed]",
      "text/plain": [
       "<Figure size 432x288 with 1 Axes>"
      ]
     },
     "metadata": {
      "needs_background": "light"
     },
     "output_type": "display_data"
    }
   ],
   "source": [
    "update_euro(uniform, dataset)\n",
    "update_euro(triangle, dataset)\n",
    "\n",
    "uniform.plot()\n",
    "triangle.plot()"
   ]
  },
  {
   "cell_type": "markdown",
   "id": "armed-cancer",
   "metadata": {},
   "source": [
    "**Conclusions**\n",
    "\n",
    "No diferences between use triangle prior or uniform prior, finally twice, finally both converge at some point\n",
    "\n",
    "**Swamping the priors**: With enough data, people who start with different priors will tend to converge on the same posterior distribution."
   ]
  },
  {
   "cell_type": "markdown",
   "id": "turkish-french",
   "metadata": {},
   "source": [
    "## The Binomial Likelihood Function\n",
    "\n",
    "Previus update binomial function (```update_euro()```) is $O(n^2)$, because '*' operation is $O(n)$ and its inside a loop $O(n)$. \n",
    "\n",
    "We can do the same with $O(n)$ complexity, for this I use the formula of binomial distribution:\n",
    "\n",
    "$$\\binom{n}{k} p^k (1-p)^{n-k}$$\n"
   ]
  },
  {
   "cell_type": "code",
   "execution_count": 18,
   "id": "norwegian-panama",
   "metadata": {},
   "outputs": [],
   "source": [
    "from scipy.stats import binom\n",
    "\n",
    "def update_binomial(pmf, data):\n",
    "    k, n = data\n",
    "    xs = pmf.qs\n",
    "    likelihood = binom.pmf(k, n, xs)\n",
    "    pmf *= likelihood\n",
    "    pmf.normalize()"
   ]
  },
  {
   "cell_type": "code",
   "execution_count": 19,
   "id": "efficient-grave",
   "metadata": {},
   "outputs": [
    {
     "data": {
      "text/plain": [
       "True"
      ]
     },
     "execution_count": 19,
     "metadata": {},
     "output_type": "execute_result"
    }
   ],
   "source": [
    "uniform2 = Pmf(1, hypos, name=\"uniform2\")\n",
    "data = 140, 250\n",
    "update_binomial(uniform2, data)\n",
    "\n",
    "# check if its the same\n",
    "np.allclose(uniform, uniform2)"
   ]
  },
  {
   "cell_type": "markdown",
   "id": "fitted-handling",
   "metadata": {},
   "source": [
    "## Exercises"
   ]
  },
  {
   "cell_type": "markdown",
   "id": "minute-colombia",
   "metadata": {},
   "source": [
    "**Exercise 1**\n",
    "\n",
    "In Major League Baseball, most players have a batting average between 200 and 330, which means that their probability of getting a hit is between 0.2 nad 0.33\n",
    "\n",
    "Suppose a player appearing in their first game gets 3 hits out of 3 attempts. What is the posterior distribution for their probability of getting a hit?"
   ]
  },
  {
   "cell_type": "markdown",
   "id": "superb-implement",
   "metadata": {},
   "source": [
    "**Solution**\n",
    "    \n",
    "1. Construct the prior\n",
    "\n",
    "2. Calculate the posterior"
   ]
  },
  {
   "cell_type": "code",
   "execution_count": 20,
   "id": "extensive-induction",
   "metadata": {},
   "outputs": [
    {
     "data": {
      "text/plain": [
       "<AxesSubplot:>"
      ]
     },
     "execution_count": 20,
     "metadata": {},
     "output_type": "execute_result"
    },
    {
     "data": {
      "image/png": "[encoded data removed]",
      "text/plain": [
       "<Figure size 432x288 with 1 Axes>"
      ]
     },
     "metadata": {
      "needs_background": "light"
     },
     "output_type": "display_data"
    }
   ],
   "source": [
    "# step 1: Contruct the prior\n",
    "\n",
    "hypos = np.linspace(0.1, 0.4, 101) # las posibles probabilidades de hit para un bateador\n",
    "prior = Pmf(1, hypos) # linear prior\n",
    "likelihood = {\n",
    "    \"Y\": hypos, # dado que la hipotesis es verdad, la prob de \"Y\" (haga un hit) seria la misma\n",
    "    \"N\": 1-hypos # dado que la hipotesis es verdad, la prob de \"N\" (no hit) seria 1-hypos[i], \n",
    "                 # de que SÍ haga un hit\n",
    "}\n",
    "dataset = \"Y\" * 25 + \"N\" * 75\n",
    "for data in dataset:\n",
    "    prior *= likelihood[data] # actualizamos el prior\n",
    "prior.normalize()\n",
    "prior.plot()"
   ]
  },
  {
   "cell_type": "code",
   "execution_count": 21,
   "id": "educational-balloon",
   "metadata": {},
   "outputs": [
    {
     "data": {
      "text/plain": [
       "<AxesSubplot:>"
      ]
     },
     "execution_count": 21,
     "metadata": {},
     "output_type": "execute_result"
    },
    {
     "data": {
      "image/png": "[encoded data removed]",
      "text/plain": [
       "<Figure size 432x288 with 1 Axes>"
      ]
     },
     "metadata": {
      "needs_background": "light"
     },
     "output_type": "display_data"
    }
   ],
   "source": [
    "posterior = prior.copy()\n",
    "dataset = \"YYY\"\n",
    "for i in dataset:\n",
    "    posterior *= likelihood[i]\n",
    "posterior.normalize()\n",
    "prior.plot()\n",
    "posterior.plot()"
   ]
  },
  {
   "cell_type": "code",
   "execution_count": 22,
   "id": "ruled-cycle",
   "metadata": {},
   "outputs": [
    {
     "data": {
      "text/plain": [
       "0.271"
      ]
     },
     "execution_count": 22,
     "metadata": {},
     "output_type": "execute_result"
    }
   ],
   "source": [
    "posterior.max_prob() # lo más probable es que tenga un promedio de bateo de 0.271,\n",
    "                     # y la prob de esto es 2.76%, todos los demas promedios de \n",
    "                     # son menores a 2.76%"
   ]
  },
  {
   "cell_type": "code",
   "execution_count": 23,
   "id": "electronic-bailey",
   "metadata": {},
   "outputs": [
    {
     "name": "stdout",
     "output_type": "stream",
     "text": [
      "round:\t 0.0276\n"
     ]
    },
    {
     "data": {
      "text/plain": [
       "0.027563807265634517"
      ]
     },
     "execution_count": 23,
     "metadata": {},
     "output_type": "execute_result"
    }
   ],
   "source": [
    "print(\"round:\\t\", np.around(posterior, 4)[posterior.max_prob()])\n",
    "posterior[posterior.max_prob()]"
   ]
  },
  {
   "cell_type": "markdown",
   "id": "accurate-boxing",
   "metadata": {},
   "source": [
    "**Exercise 2**\n",
    "\n",
    "Whenever you survey people about sensitive issues, you have to deal with social desirability bias, which is the tendency of people to adjust their answers to show themselves in the most positive light. One way to improve the accuracy of the results is randomized response.\n",
    "\n",
    "As an example, suppose want to know how many people cheat on their taxes.\n",
    "If you ask them directly, it is likely that some of the cheaters will lie. You can get a more accurate estimate if you ask them indirectly, like this: Ask each person to flip a coin and, without revealing the outcome,\n",
    "\n",
    "If they get heads, they report YES.\n",
    "\n",
    "If they get tails, they honestly answer the question “Do you cheat on your taxes?”\n",
    "\n",
    "If someone says YES, we don’t know whether they actually cheat on their taxes; they might have flipped yes. Knowing this, people might be more willing to answer honestly.\n",
    "\n",
    "Suppose you survey 100 people this way and get 80 YESes and 20 NOs. Based on this data, what is the posterior distribution for the fraction of people who cheat on their taxes? What is the most likely quantity in the posterior distribution?\n"
   ]
  },
  {
   "cell_type": "code",
   "execution_count": 24,
   "id": "efficient-charleston",
   "metadata": {},
   "outputs": [
    {
     "name": "stdout",
     "output_type": "stream",
     "text": [
      "[0.5   0.505 0.51  0.515 0.52  0.525 0.53  0.535 0.54  0.545]\n",
      "[0.5   0.495 0.49  0.485 0.48  0.475 0.47  0.465 0.46  0.455]\n"
     ]
    }
   ],
   "source": [
    "hypos = np.linspace(0, 1, 101) # [0, 0.01, 0.02, 0.03, ... 1]\n",
    "prior = Pmf(1, hypos)\n",
    "\"\"\"\n",
    "* 50% de los que dijeron \"YES\" porque salio cara, por lo que \n",
    "  los podemos descartar, de esta forma, el porcentaje es de \n",
    "  los que dijeron \"YES\" debido a que evaden impuestos es hypos\n",
    "  sobre el nuevo total (T-0.5T)\n",
    "  (T = 100)\n",
    "  \n",
    "Entonces calculamos el likelihood:\n",
    "P(data/hypo)\n",
    "  \n",
    "    Ejemplo\n",
    "    Prob de que la persona diga \"YES\" dado que la probabilidad de \n",
    "    que evada impuestos es de 40%:\n",
    "        data = \"Y\"\n",
    "        hypo = 0.4 (40%)\n",
    "        P(\"Y\"/0.4):\n",
    "            cantidad de \"Y\" = 0.5T + 0.4(0.5T) = 0.7T\n",
    "            total = T\n",
    "            Probabilidad = 0.7T/T = 0.7 \n",
    "\n",
    "Generalizando:\n",
    "P(\"Y\"/hypo) = 0.5 + hypo * (0.5)\n",
    "P(\"N\"/hypo) = 1- P(\"Y\"/hypo) = 0.5 - hypo * (0.5)\n",
    "\"\"\"\n",
    "likelihood = {\n",
    "    \"Y\": 1/2 + hypos/2,\n",
    "    \"N\": 1/2 - hypos/2\n",
    "}\n",
    "print(likelihood[\"Y\"][:10])\n",
    "print(likelihood[\"N\"][:10])"
   ]
  },
  {
   "cell_type": "code",
   "execution_count": 25,
   "id": "correct-fetish",
   "metadata": {},
   "outputs": [
    {
     "name": "stdout",
     "output_type": "stream",
     "text": [
      "Hipostesis más probable:\n",
      "* 60.0 % de las personas evaden impuestos\n",
      "* probabilidad de hipotesis: 5.01 %\n"
     ]
    },
    {
     "data": {
      "image/png": "[encoded data removed]",
      "text/plain": [
       "<Figure size 432x288 with 1 Axes>"
      ]
     },
     "metadata": {
      "needs_background": "light"
     },
     "output_type": "display_data"
    }
   ],
   "source": [
    "dataframe = 80*\"Y\" + 20*\"N\"\n",
    "posterior = prior.copy()\n",
    "for i in dataframe:\n",
    "    posterior *= likelihood[i]\n",
    "posterior.normalize()\n",
    "posterior.plot()\n",
    "print(\"Hipostesis más probable:\")\n",
    "print(\"*\", posterior.max_prob()*100, \"% de las personas evaden impuestos\")\n",
    "print(\"* probabilidad de hipotesis:\", np.around(posterior, 4)[posterior.max_prob()]*100, \"%\")"
   ]
  },
  {
   "cell_type": "markdown",
   "id": "alive-window",
   "metadata": {},
   "source": [
    "**Exercise 3**\n",
    "\n",
    "Suppose you want to test whether a coin is fair, but you don’t want to spin it hundreds of times. So you make a machine that spins the coin automatically and uses computer vision to determine the outcome.\n",
    "\n",
    "However, you discover that the machine is not always accurate. Specifically, suppose the probability is y=0.2 that an actual heads is reported as tails, or actual tails reported as heads.\n",
    "\n",
    "If we spin a coin 250 times and the machine reports 140 heads, what is the posterior distribution of x? What happens as you vary the value of y?"
   ]
  },
  {
   "cell_type": "code",
   "execution_count": 54,
   "id": "presidential-surrey",
   "metadata": {},
   "outputs": [],
   "source": [
    "# error de 20%\n",
    "y = 0.2\n",
    "prior = Pmf(1, np.linspace(0,1,101))\n",
    "hypos = prior.qs\n",
    "# hypos son las posibles probabilidades que tiene la moneda de tener una cara"
   ]
  },
  {
   "cell_type": "markdown",
   "id": "configured-routine",
   "metadata": {},
   "source": [
    "**Likelihood P(Data/Hypo)**\n",
    " \n",
    " Example\n",
    " \n",
    " **P(\"C\"/0.4)**\n",
    " \n",
    "     Data: el robot detecta cara (\"C\")\n",
    "     Hypo: 0.4 (40% de obtener cara (verdaderamente))\n",
    "     P(\"C\"/0.4) = 0.4 * (1-error) + 0.6 * error\n",
    " \n",
    "![likelihood](files/cap3-lh.jpg \"likelihood 'C'\")"
   ]
  },
  {
   "cell_type": "code",
   "execution_count": 60,
   "id": "dynamic-activity",
   "metadata": {},
   "outputs": [
    {
     "data": {
      "text/plain": [
       "0.6"
      ]
     },
     "execution_count": 60,
     "metadata": {},
     "output_type": "execute_result"
    },
    {
     "data": {
      "image/png": "[encoded data removed]",
      "text/plain": [
       "<Figure size 432x288 with 1 Axes>"
      ]
     },
     "metadata": {
      "needs_background": "light"
     },
     "output_type": "display_data"
    }
   ],
   "source": [
    "likelihood = {\n",
    "    \"C\": hypos*(1-y) + (1-hypos)*y ,\n",
    "    \"S\": hypos*y + (1-hypos)*(1-y)   \n",
    "}\n",
    "dataset = 140 * \"C\" + 110 * \"S\"\n",
    "posterior = prior.copy()\n",
    "for i in dataset:\n",
    "    posterior *= likelihood[i]\n",
    "posterior.normalize()\n",
    "posterior.plot()\n",
    "posterior.max_prob()"
   ]
  },
  {
   "cell_type": "code",
   "execution_count": 77,
   "id": "specialized-labor",
   "metadata": {},
   "outputs": [
    {
     "data": {
      "text/plain": [
       "0.5"
      ]
     },
     "execution_count": 77,
     "metadata": {},
     "output_type": "execute_result"
    },
    {
     "data": {
      "image/png": "[encoded data removed]",
      "text/plain": [
       "<Figure size 432x288 with 1 Axes>"
      ]
     },
     "metadata": {
      "needs_background": "light"
     },
     "output_type": "display_data"
    }
   ],
   "source": [
    "def ex3(hypos, dataset, y):\n",
    "    prior = Pmf(1, hypos) # linear prior\n",
    "    likelihood = {\n",
    "        \"C\": hypos * (1-y) + (1-hypos) * y,\n",
    "        \"S\": hypos * y + (1-hypos) * (1-y)\n",
    "    }\n",
    "    posterior = prior.copy()\n",
    "    for i in dataset:\n",
    "        posterior *= likelihood[i]\n",
    "    posterior.normalize()\n",
    "    return posterior\n",
    "\n",
    "dataset = 140 * \"C\" + 110 * \"S\"\n",
    "dataset = 140 * \"C\" + 140 * \"S\"\n",
    "\n",
    "\n",
    "ex3(np.linspace(0,1,101), dataset, 0.2).plot() # azul\n",
    "ex3(np.linspace(0,1,101), dataset, 0.3).plot() # amarillo\n",
    "ex3(np.linspace(0,1,101), dataset, 0.4).plot() # verde\n",
    "ex3(np.linspace(0,1,101), dataset, 0.5).plot() # rojo \n",
    "ex3(np.linspace(0,1,101), dataset, 0.6).plot() # morado\n",
    "ex3(np.linspace(0,1,101), dataset, 0.0).plot() # guinda\n",
    "# cuando tiene 0.5 de error el likelihood seria \n",
    "# c: hypos*0.5 + (1-hypos)*0.5 = 0.5*(hypos+1-hypos) = 1*0.5 = 0.5\n",
    "# s: hypos*0.5 + (1-hypos)*0.5 = 0.5*(hypos+1-hypos) = 1*0.5 = 0.5\n",
    "\n",
    "ex3(np.linspace(0,1,101), dataset, 0.2).max_prob()"
   ]
  }
 ],
 "metadata": {
  "kernelspec": {
   "display_name": "ThinkBayes2",
   "language": "python",
   "name": "thinkbayes2"
  },
  "language_info": {
   "codemirror_mode": {
    "name": "ipython",
    "version": 3
   },
   "file_extension": ".py",
   "mimetype": "text/x-python",
   "name": "python",
   "nbconvert_exporter": "python",
   "pygments_lexer": "ipython3",
   "version": "3.9.2"
  }
 },
 "nbformat": 4,
 "nbformat_minor": 5
}
